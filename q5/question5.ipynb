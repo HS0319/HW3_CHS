{
 "cells": [
  {
   "cell_type": "code",
   "execution_count": 3,
   "id": "8da31182",
   "metadata": {},
   "outputs": [
    {
     "name": "stdout",
     "output_type": "stream",
     "text": [
      "input 1 :  Two roads diverged in a yellow wood, And sorry I could not travel both And be one traveler, long I stood And looked down one as far as I could To where it bent in the undergrowth;\n",
      "\n",
      "output 1 :  undergrowth; the in bent it where To could I as far as one down looked And stood I long traveler, one be And both travel not could I sorry And wood, yellow a in diverged roads Two\n",
      "\n",
      "input 2 :  Then took the other, as just as fair, And having perhaps the better claim, Because it was grassy and wanted wear; Though as for that the passing there Had worn them really about the same,\n",
      "\n",
      "output 2 :  same, the about really them worn Had there passing the that for as Though wear; wanted and grassy was it Because claim, better the perhaps having And fair, as just as other, the took Then\n"
     ]
    }
   ],
   "source": [
    "def reverse_words(n):\n",
    "    n_split = n.split()[::-1]\n",
    "    li = []\n",
    "    for i in n_split:\n",
    "        li.append(i)\n",
    "    print(\" \".join(li))\n",
    "\n",
    "\n",
    "def main():\n",
    "    input1 = \"Two roads diverged in a yellow wood, And sorry I could not travel both And be one traveler, long I stood And looked down one as far as I could To where it bent in the undergrowth;\"\n",
    "    print(\"input 1 : \", input1)\n",
    "    print()\n",
    "    print(\"output 1 : \", end = ' ')\n",
    "    reverse_words(input1)\n",
    "    input2 = \"Then took the other, as just as fair, And having perhaps the better claim, Because it was grassy and wanted wear; Though as for that the passing there Had worn them really about the same,\" \n",
    "    print()\n",
    "    print(\"input 2 : \", input2)\n",
    "    print()\n",
    "    print(\"output 2 : \", end = ' ')\n",
    "    reverse_words(input2)\n",
    "\n",
    "\n",
    "if __name__ == '__main__':\n",
    "    main()"
   ]
  },
  {
   "cell_type": "code",
   "execution_count": null,
   "id": "71b002e3",
   "metadata": {},
   "outputs": [],
   "source": []
  }
 ],
 "metadata": {
  "kernelspec": {
   "display_name": "Python 3 (ipykernel)",
   "language": "python",
   "name": "python3"
  },
  "language_info": {
   "codemirror_mode": {
    "name": "ipython",
    "version": 3
   },
   "file_extension": ".py",
   "mimetype": "text/x-python",
   "name": "python",
   "nbconvert_exporter": "python",
   "pygments_lexer": "ipython3",
   "version": "3.9.13"
  }
 },
 "nbformat": 4,
 "nbformat_minor": 5
}
