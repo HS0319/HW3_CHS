{
 "cells": [
  {
   "cell_type": "code",
   "execution_count": 1,
   "id": "68fe52fb",
   "metadata": {},
   "outputs": [
    {
     "name": "stdout",
     "output_type": "stream",
     "text": [
      "0 의 팩토리얼 값 :  1\n",
      "2 의 팩토리얼 값 :  2\n",
      "4 의 팩토리얼 값 :  24\n",
      "6 의 팩토리얼 값 :  720\n",
      "8 의 팩토리얼 값 :  40320\n",
      "10 의 팩토리얼 값 :  3628800\n",
      "12 의 팩토리얼 값 :  479001600\n",
      "14 의 팩토리얼 값 :  87178291200\n"
     ]
    }
   ],
   "source": [
    "def factorial(n):\n",
    "    if n == 0:\n",
    "        return 1    \n",
    "    return n * factorial(n - 1)    \n",
    "\n",
    "def main():\n",
    "    for i in range(0, 15, 2):\n",
    "        print(i,\"의 팩토리얼 값 : \", factorial(i))\n",
    "\n",
    "if __name__ == '__main__':\n",
    "    main()"
   ]
  },
  {
   "cell_type": "code",
   "execution_count": null,
   "id": "e0d76037",
   "metadata": {},
   "outputs": [],
   "source": []
  }
 ],
 "metadata": {
  "kernelspec": {
   "display_name": "Python 3 (ipykernel)",
   "language": "python",
   "name": "python3"
  },
  "language_info": {
   "codemirror_mode": {
    "name": "ipython",
    "version": 3
   },
   "file_extension": ".py",
   "mimetype": "text/x-python",
   "name": "python",
   "nbconvert_exporter": "python",
   "pygments_lexer": "ipython3",
   "version": "3.9.13"
  }
 },
 "nbformat": 4,
 "nbformat_minor": 5
}
